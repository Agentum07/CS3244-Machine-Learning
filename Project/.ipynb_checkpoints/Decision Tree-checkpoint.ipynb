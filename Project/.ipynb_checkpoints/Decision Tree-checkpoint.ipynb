{
 "cells": [
  {
   "cell_type": "code",
   "execution_count": null,
   "id": "05102cc5",
   "metadata": {},
   "outputs": [],
   "source": [
    "import matplotlib.pyplot as plt\n",
    "import numpy as np\n",
    "import pandas as pd\n",
    "import pydotplus as pp\n",
    "import seaborn as sns\n",
    "\n",
    "from IPython.display import display\n",
    "from IPython.display import Image\n",
    "\n",
    "from sklearn.metrics import r2_score\n",
    "from sklearn.metrics import explained_variance_score\n",
    "from sklearn.metrics import max_error\n",
    "from sklearn.metrics import mean_absolute_error\n",
    "from sklearn.metrics import mean_squared_error\n",
    "from sklearn.metrics import median_absolute_error\n",
    "\n",
    "from sklearn.model_selection import train_test_split\n",
    "\n",
    "from sklearn import tree\n",
    "from sklearn.tree import DecisionTreeRegressor\n",
    "from sklearn.tree import export_graphviz"
   ]
  },
  {
   "cell_type": "code",
   "execution_count": null,
   "id": "7c4bcb69",
   "metadata": {},
   "outputs": [],
   "source": [
    "class CONFIG:\n",
    "    INDEXS = [\"R2 Pred\", \"R2\", \"EV\", \"ME\", \"MEAN_AE\", \"MSE\", \"MEDIAN_AE\"]"
   ]
  },
  {
   "cell_type": "markdown",
   "id": "bb33952b",
   "metadata": {},
   "source": [
    "# Load Dataset"
   ]
  },
  {
   "cell_type": "code",
   "execution_count": null,
   "id": "8b97ad65",
   "metadata": {},
   "outputs": [],
   "source": [
    "header = pd.read_csv(\"Dataset/header.csv\", header=None)\n",
    "header"
   ]
  },
  {
   "cell_type": "code",
   "execution_count": null,
   "id": "6ceb2247",
   "metadata": {},
   "outputs": [],
   "source": [
    "training_dataset = pd.read_csv(\"Dataset/Training/Features_Variant_1.csv\",\n",
    "                               header=None,\n",
    "                               names=[header.iat[0, i] for i in range(0, 54)])\n",
    "training_dataset.sample(n=10)"
   ]
  },
  {
   "cell_type": "code",
   "execution_count": null,
   "id": "edad68ef",
   "metadata": {},
   "outputs": [],
   "source": [
    "features = training_dataset.iloc[:, :53]\n",
    "features"
   ]
  },
  {
   "cell_type": "code",
   "execution_count": null,
   "id": "222ef92c",
   "metadata": {},
   "outputs": [],
   "source": [
    "labels = training_dataset.iloc[:, -1:]\n",
    "labels"
   ]
  },
  {
   "cell_type": "code",
   "execution_count": null,
   "id": "eeb3ad14",
   "metadata": {},
   "outputs": [],
   "source": [
    "X_train, X_test, y_train, y_test = train_test_split(features, labels, test_size=.3, random_state=42)"
   ]
  },
  {
   "cell_type": "markdown",
   "id": "9815e9dc",
   "metadata": {},
   "source": [
    "# Decision Tree"
   ]
  },
  {
   "cell_type": "markdown",
   "id": "14849310",
   "metadata": {},
   "source": [
    "## Model Training"
   ]
  },
  {
   "cell_type": "code",
   "execution_count": null,
   "id": "846b1fa4",
   "metadata": {},
   "outputs": [],
   "source": [
    "def train_model(model):\n",
    "    model.fit(X_train, y_train)\n",
    "    predict = model.predict(X_test)\n",
    "    return predict"
   ]
  },
  {
   "cell_type": "code",
   "execution_count": null,
   "id": "9cf7b056",
   "metadata": {},
   "outputs": [],
   "source": [
    "def plot_test_predict(y_train, y_test, predict, axes=None, k=None):\n",
    "    test_predict = pd.concat([pd.DataFrame(y_test).reset_index(drop=True), pd.DataFrame(predict.transpose())], axis=1)\n",
    "    headers = [\"Test\", \"Predict\"]\n",
    "    test_predict.columns = headers\n",
    "    if axes is not None and k is not None:\n",
    "        sns.lineplot(data=test_predict.sample(n=50), ax=axes[k]).set_title(\"Test Predict Curve k = \" + str(k))\n",
    "    else:\n",
    "        sns.lineplot(data=test_predict.sample(n=50)).set_title(\"Test Predict Curve\")\n",
    "    plt.show()\n",
    "    sns.residplot(x=y_test.to_numpy(), y=predict, lowess=True).set_title(\"Residuals\")\n",
    "    plt.show()"
   ]
  },
  {
   "cell_type": "markdown",
   "id": "65a12b98",
   "metadata": {},
   "source": [
    "## Model Evaluation"
   ]
  },
  {
   "cell_type": "code",
   "execution_count": null,
   "id": "1861b467",
   "metadata": {},
   "outputs": [],
   "source": [
    "def evaluate(model, X_test, y_test, predict):\n",
    "\n",
    "    # R-Squared Prediction\n",
    "    r2_pred = model.score(X_test, y_test)\n",
    "    \n",
    "    # R-Squared\n",
    "    r2 = r2_score(y_test, predict)\n",
    "    \n",
    "    # Explained Variance Score\n",
    "    ev = explained_variance_score(y_test, predict)\n",
    "    \n",
    "    # Max Error\n",
    "    me = max_error(y_test, predict)\n",
    "    \n",
    "    # Mean Absolute Error\n",
    "    mean_ae = mean_absolute_error(y_test, predict)\n",
    "    \n",
    "    # Mean Squared Error\n",
    "    mse = mean_squared_error(y_test, predict)\n",
    "    \n",
    "    # Median Absolute Error\n",
    "    median_ae = median_absolute_error(y_test, predict)\n",
    "    \n",
    "    return r2_pred, r2, ev, me, mean_ae, mse, median_ae"
   ]
  },
  {
   "cell_type": "markdown",
   "id": "89806fbb",
   "metadata": {},
   "source": [
    "## Draw Tree"
   ]
  },
  {
   "cell_type": "code",
   "execution_count": null,
   "id": "7605b5c5",
   "metadata": {},
   "outputs": [],
   "source": [
    "def draw_tree(model, X_train, y_train):\n",
    "    dot_data = tree.export_graphviz(model, out_file=None,\n",
    "                                    feature_names=X_train.columns,\n",
    "                                    class_names=y_train.columns,  \n",
    "                                    filled=True,\n",
    "                                    rounded=True,\n",
    "                                    special_characters=True)\n",
    "    graph = pp.graph_from_dot_data(dot_data)\n",
    "    img = Image(graph.create_png())\n",
    "    display(img)"
   ]
  },
  {
   "cell_type": "markdown",
   "id": "08cd87e3",
   "metadata": {},
   "source": [
    "## Final Model"
   ]
  },
  {
   "cell_type": "code",
   "execution_count": null,
   "id": "dc873adb",
   "metadata": {},
   "outputs": [],
   "source": [
    "def train_final_model(max_depth=None, min_samples_split=2):\n",
    "    # DecisionTreeRegressor\n",
    "    model = DecisionTreeRegressor(max_depth=max_depth, min_samples_split=min_samples_split)\n",
    "\n",
    "    # Model Training\n",
    "    predict = train_model(model)\n",
    "    plot_test_predict(y_train, y_test, predict)\n",
    "\n",
    "    # Model Evaluation\n",
    "    r2_pred, r2, ev, me, mean_ae, mse, median_ae = evaluate(model, X_test, y_test, predict)\n",
    "\n",
    "    results = pd.DataFrame({\n",
    "        \"Index\": CONFIG.INDEXS, \n",
    "        \"Mean\": [r2_pred, r2, ev, me, mean_ae, mse, median_ae]\n",
    "    })\n",
    "    print(results)\n",
    "    draw_tree(model, X_train, y_train)"
   ]
  },
  {
   "cell_type": "code",
   "execution_count": null,
   "id": "17d86774",
   "metadata": {
    "scrolled": false
   },
   "outputs": [],
   "source": [
    "train_final_model(max_depth=10, min_samples_split=.02)"
   ]
  },
  {
   "cell_type": "code",
   "execution_count": null,
   "id": "34a4841b",
   "metadata": {},
   "outputs": [],
   "source": []
  },
  {
   "cell_type": "code",
   "execution_count": null,
   "id": "360fbd59",
   "metadata": {},
   "outputs": [],
   "source": []
  },
  {
   "cell_type": "code",
   "execution_count": null,
   "id": "c8ce6888",
   "metadata": {},
   "outputs": [],
   "source": []
  }
 ],
 "metadata": {
  "kernelspec": {
   "display_name": "Python 3 (ipykernel)",
   "language": "python",
   "name": "python3"
  },
  "language_info": {
   "codemirror_mode": {
    "name": "ipython",
    "version": 3
   },
   "file_extension": ".py",
   "mimetype": "text/x-python",
   "name": "python",
   "nbconvert_exporter": "python",
   "pygments_lexer": "ipython3",
   "version": "3.8.8"
  }
 },
 "nbformat": 4,
 "nbformat_minor": 5
}
